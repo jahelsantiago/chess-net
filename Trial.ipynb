{
  "nbformat": 4,
  "nbformat_minor": 0,
  "metadata": {
    "colab": {
      "name": "Trial.ipynb",
      "provenance": [],
      "authorship_tag": "ABX9TyNrxh5lUwtG1SyOVvTdxP8j",
      "include_colab_link": true
    },
    "kernelspec": {
      "name": "python3",
      "display_name": "Python 3"
    }
  },
  "cells": [
    {
      "cell_type": "markdown",
      "metadata": {
        "id": "view-in-github",
        "colab_type": "text"
      },
      "source": [
        "<a href=\"https://colab.research.google.com/github/jahelsantiago/chess-net/blob/master/Trial.ipynb\" target=\"_parent\"><img src=\"https://colab.research.google.com/assets/colab-badge.svg\" alt=\"Open In Colab\"/></a>"
      ]
    },
    {
      "cell_type": "code",
      "metadata": {
        "id": "bTlfUBJrOV-g",
        "colab_type": "code",
        "colab": {}
      },
      "source": [
        "import tensorflow as tf\n",
        "from tensorflow import keras as k\n",
        "from tensorflow.keras  import models\n",
        "from tensorflow.keras.preprocessing.sequence import pad_sequences"
      ],
      "execution_count": 13,
      "outputs": []
    },
    {
      "cell_type": "markdown",
      "metadata": {
        "id": "woYSN1tGOTip",
        "colab_type": "text"
      },
      "source": [
        "Cargamos el modelo"
      ]
    },
    {
      "cell_type": "code",
      "metadata": {
        "id": "vXVoV-tCOS4s",
        "colab_type": "code",
        "colab": {}
      },
      "source": [
        "import pickle\n",
        "model = models.load_model(\"/content/modelo_50_epochs.h5\")\n",
        "\n",
        "with open('tokenizer.pickle', 'rb') as handle:\n",
        "    tokenizer = pickle.load(handle)\n",
        "\n",
        "word_index = tokenizer.word_index"
      ],
      "execution_count": 17,
      "outputs": []
    },
    {
      "cell_type": "code",
      "metadata": {
        "id": "kf9wnjQfT6kO",
        "colab_type": "code",
        "colab": {
          "base_uri": "https://localhost:8080/",
          "height": 372
        },
        "outputId": "7cb79412-1d11-4993-f77b-0ceef951f7be"
      },
      "source": [
        "model.summary()"
      ],
      "execution_count": 9,
      "outputs": [
        {
          "output_type": "stream",
          "text": [
            "Model: \"sequential_1\"\n",
            "_________________________________________________________________\n",
            "Layer (type)                 Output Shape              Param #   \n",
            "=================================================================\n",
            "embedding_1 (Embedding)      (None, 829, 100)          6600      \n",
            "_________________________________________________________________\n",
            "bidirectional_1 (Bidirection (None, 829, 300)          301200    \n",
            "_________________________________________________________________\n",
            "dropout_1 (Dropout)          (None, 829, 300)          0         \n",
            "_________________________________________________________________\n",
            "lstm_3 (LSTM)                (None, 100)               160400    \n",
            "_________________________________________________________________\n",
            "dense_2 (Dense)              (None, 33)                3333      \n",
            "_________________________________________________________________\n",
            "dense_3 (Dense)              (None, 66)                2244      \n",
            "=================================================================\n",
            "Total params: 473,777\n",
            "Trainable params: 473,777\n",
            "Non-trainable params: 0\n",
            "_________________________________________________________________\n"
          ],
          "name": "stdout"
        }
      ]
    },
    {
      "cell_type": "code",
      "metadata": {
        "id": "eXJk-n6-U0ul",
        "colab_type": "code",
        "colab": {}
      },
      "source": [
        "max_lenght = 100 "
      ],
      "execution_count": 10,
      "outputs": []
    },
    {
      "cell_type": "code",
      "metadata": {
        "id": "VN9GXfZqOuIr",
        "colab_type": "code",
        "colab": {
          "base_uri": "https://localhost:8080/",
          "height": 71
        },
        "outputId": "7548294f-7caa-4b21-a57c-80757ebb5a64"
      },
      "source": [
        "seed_text = \"\"\n",
        "next_words = 100\n",
        "word_index_inverse = {i:word for word, i in word_index.items()}  \n",
        "\n",
        "for _ in range(next_words):\n",
        "  token_list = tokenizer.texts_to_sequences([seed_text])[0]\n",
        "  token_list = pad_sequences([token_list], maxlen=max_lenght)\n",
        "  predicted = int(model.predict_classes(token_list, verbose=0)[0])\n",
        "  output_word = str(word_index_inverse[predicted])\n",
        "  seed_text += \" \" + output_word\n",
        "\n",
        "seed_text"
      ],
      "execution_count": 19,
      "outputs": [
        {
          "output_type": "execute_result",
          "data": {
            "application/vnd.google.colaboratory.intrinsic+json": {
              "type": "string"
            },
            "text/plain": [
              "' e2 e4 e7 e5 f1 e3 b8 c6 b1 c3 b8 c6 e3 g4 e8 f7 g1 h2 e8 e6 h2 h4 g5 e4 f3 e4 d5 e4 f3 e4 f6 e4 e2 e4 d7 e6 e4 g5 h6 h5 g4 g5 f6 e5 e4 e3 e7 e6 h2 h4 g5 h4 e3 f4 e8 e8 g4 e6 b7 c6 f4 f3 b6 f5 f3 g4 f6 e5 f4 e3 d5 e4 f3 e4 d7 f3 e4 f4 g6 g5 f4 e2 e6 f5 g2 f3 f6 f5 e3 e4 f5 g4 e3 b3 g3 h3 e3 e4 h4 h3'"
            ]
          },
          "metadata": {
            "tags": []
          },
          "execution_count": 19
        }
      ]
    },
    {
      "cell_type": "code",
      "metadata": {
        "id": "OsKoETPsVbLI",
        "colab_type": "code",
        "colab": {}
      },
      "source": [
        ""
      ],
      "execution_count": null,
      "outputs": []
    }
  ]
}