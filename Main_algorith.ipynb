{
  "nbformat": 4,
  "nbformat_minor": 0,
  "metadata": {
    "colab": {
      "name": "Main_algorith.ipynb",
      "provenance": [],
      "mount_file_id": "1qDTwSU-aQOW3ao7Nfyg2AmkZU3RuwEB_",
      "authorship_tag": "ABX9TyMWNrD3ogbIga+L+FcOob37",
      "include_colab_link": true
    },
    "kernelspec": {
      "name": "python3",
      "display_name": "Python 3"
    },
    "accelerator": "GPU"
  },
  "cells": [
    {
      "cell_type": "markdown",
      "metadata": {
        "id": "view-in-github",
        "colab_type": "text"
      },
      "source": [
        "<a href=\"https://colab.research.google.com/github/jahelsantiago/chess-net/blob/master/Main_algorith.ipynb\" target=\"_parent\"><img src=\"https://colab.research.google.com/assets/colab-badge.svg\" alt=\"Open In Colab\"/></a>"
      ]
    },
    {
      "cell_type": "code",
      "metadata": {
        "id": "pPkFLLV3ID1O",
        "colab_type": "code",
        "colab": {}
      },
      "source": [
        "import glob \n",
        "import numpy as np\n",
        "import chess.pgn"
      ],
      "execution_count": null,
      "outputs": []
    },
    {
      "cell_type": "code",
      "metadata": {
        "id": "ytN4Z3AIIIWs",
        "colab_type": "code",
        "colab": {}
      },
      "source": [
        "paths = [\"/content/drive/My Drive/universidad/Ingeniería de sistemas/Deep Learning /CCRL-404FRC.[288996].pgn\"]\n",
        "games = []\n",
        "for path in paths:\n",
        "    pgn = open(path)    \n",
        "    while True:\n",
        "        game= chess.pgn.read_game(pgn)\n",
        "        if game is not None:\n",
        "            games.append(game)\n",
        "        else:\n",
        "            break\n",
        "games_moves = []\n",
        "for game in games:\n",
        "    moves = \"\"\n",
        "    for move in game.mainline_moves():\n",
        "        temp = str(move)\n",
        "        temp = temp[0:2]+\" \"+temp[2:4]\n",
        "        moves+=temp + \" \"\n",
        "    games_moves.append(moves) "
      ],
      "execution_count": null,
      "outputs": []
    },
    {
      "cell_type": "code",
      "metadata": {
        "id": "Vo28YrIAItlW",
        "colab_type": "code",
        "colab": {}
      },
      "source": [
        "import tensorflow as tf\n",
        "from tensorflow import keras as k\n",
        "from keras.preprocessing.text import Tokenizer\n",
        "from keras.preprocessing.sequence import pad_sequences\n",
        "from keras.utils import to_categorical\n",
        "from keras.layers import Bidirectional, Dense, LSTM, Embedding, Dropout\n",
        "from keras.models import Sequential\n",
        "from keras import regularizers"
      ],
      "execution_count": null,
      "outputs": []
    },
    {
      "cell_type": "code",
      "metadata": {
        "id": "P3RIb2S7Iy9x",
        "colab_type": "code",
        "colab": {
          "base_uri": "https://localhost:8080/",
          "height": 238
        },
        "outputId": "bfb22d60-e87f-4b05-e81a-ad5161b84880"
      },
      "source": [
        "tokenizer = Tokenizer(oov_token=\"<OOV>\")\n",
        "tokenizer.fit_on_texts(games_moves)\n",
        "sequences = tokenizer.texts_to_sequences(games_moves)\n",
        "\n",
        "word_index = tokenizer.word_index\n",
        "vocab_size = int(len(word_index) + 1)\n",
        "\n",
        "max_lenght = max([len(x) for x in sequences])\n",
        "\n",
        "temp = []\n",
        "for line in sequences:\n",
        "    for i in range(2, len(line)):\n",
        "        temp.append(line[:i])\n",
        "    \n",
        "\n",
        "sequences_paded = pad_sequences(temp, maxlen= max_lenght)\n",
        "\n",
        "xs = sequences_paded[:,:-1]\n",
        "train_labels = sequences_paded[:,-1]\n",
        "ys = to_categorical(train_labels)"
      ],
      "execution_count": null,
      "outputs": [
        {
          "output_type": "error",
          "ename": "ValueError",
          "evalue": "ignored",
          "traceback": [
            "\u001b[0;31m---------------------------------------------------------------------------\u001b[0m",
            "\u001b[0;31mValueError\u001b[0m                                Traceback (most recent call last)",
            "\u001b[0;32m<ipython-input-4-d1374b2c93b1>\u001b[0m in \u001b[0;36m<module>\u001b[0;34m()\u001b[0m\n\u001b[1;32m      6\u001b[0m \u001b[0mvocab_size\u001b[0m \u001b[0;34m=\u001b[0m \u001b[0mint\u001b[0m\u001b[0;34m(\u001b[0m\u001b[0mlen\u001b[0m\u001b[0;34m(\u001b[0m\u001b[0mword_index\u001b[0m\u001b[0;34m)\u001b[0m \u001b[0;34m+\u001b[0m \u001b[0;36m1\u001b[0m\u001b[0;34m)\u001b[0m\u001b[0;34m\u001b[0m\u001b[0;34m\u001b[0m\u001b[0m\n\u001b[1;32m      7\u001b[0m \u001b[0;34m\u001b[0m\u001b[0m\n\u001b[0;32m----> 8\u001b[0;31m \u001b[0mmax_lenght\u001b[0m \u001b[0;34m=\u001b[0m \u001b[0mmax\u001b[0m\u001b[0;34m(\u001b[0m\u001b[0;34m[\u001b[0m\u001b[0mlen\u001b[0m\u001b[0;34m(\u001b[0m\u001b[0mx\u001b[0m\u001b[0;34m)\u001b[0m \u001b[0;32mfor\u001b[0m \u001b[0mx\u001b[0m \u001b[0;32min\u001b[0m \u001b[0msequences\u001b[0m\u001b[0;34m]\u001b[0m\u001b[0;34m)\u001b[0m\u001b[0;34m\u001b[0m\u001b[0;34m\u001b[0m\u001b[0m\n\u001b[0m\u001b[1;32m      9\u001b[0m \u001b[0;34m\u001b[0m\u001b[0m\n\u001b[1;32m     10\u001b[0m \u001b[0mtemp\u001b[0m \u001b[0;34m=\u001b[0m \u001b[0;34m[\u001b[0m\u001b[0;34m]\u001b[0m\u001b[0;34m\u001b[0m\u001b[0;34m\u001b[0m\u001b[0m\n",
            "\u001b[0;31mValueError\u001b[0m: max() arg is an empty sequence"
          ]
        }
      ]
    },
    {
      "cell_type": "code",
      "metadata": {
        "id": "QbXhhfCXI0cO",
        "colab_type": "code",
        "colab": {}
      },
      "source": [
        "model = Sequential()\n",
        "model.add(Embedding(vocab_size, 100, input_length=max_lenght-1))\n",
        "model.add(Bidirectional(LSTM(150, return_sequences = True)))\n",
        "model.add(Dropout(0.2))\n",
        "model.add(LSTM(100))\n",
        "model.add(Dense(int(vocab_size/2), activation='relu', kernel_regularizer=regularizers.l2(0.01)))\n",
        "model.add(Dense(vocab_size, activation='softmax'))\n",
        "model.compile(loss='categorical_crossentropy', optimizer='adam', metrics=['accuracy'])\n",
        "print(model.summary())"
      ],
      "execution_count": null,
      "outputs": []
    },
    {
      "cell_type": "code",
      "metadata": {
        "id": "FBiFaXhkI2J4",
        "colab_type": "code",
        "colab": {}
      },
      "source": [
        " history = model.fit(xs, ys, epochs=100, verbose=1)"
      ],
      "execution_count": null,
      "outputs": []
    }
  ]
}